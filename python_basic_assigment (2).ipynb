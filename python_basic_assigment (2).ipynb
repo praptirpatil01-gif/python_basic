{
  "nbformat": 4,
  "nbformat_minor": 0,
  "metadata": {
    "colab": {
      "provenance": []
    },
    "kernelspec": {
      "name": "python3",
      "display_name": "Python 3"
    },
    "language_info": {
      "name": "python"
    }
  },
  "cells": [
    {
      "cell_type": "markdown",
      "source": [
        "Q.1  What is Python, and why is it popular ?\n",
        "\n",
        "\n",
        "   Ans-  Python is a simple and easy language. Python is a versatile, High programming language widely used for readability, simplicity, and extensive libraries.\n",
        "\n",
        "\n",
        " Why is Python Popular?\n",
        "\n",
        " Easy to Learn and Use :- Python has clean and simple syntax\n",
        "\n",
        " Extensive Libraries :- Python has a vast collection of libraries (e.g., NumPy, Pandas, Matplotlib)\n",
        "\n",
        " Strong Community Support :- Python has a large, active community that provides extensive documentation, tutorials, and support forums.\n",
        "\n",
        " Cross-Platform Compatibility :- Python runs on all major operating systems\n",
        " (Windows, macOS, Linux).\n",
        "\n",
        "---\n",
        ".2 What is an interpreter in Python\n",
        "\n",
        " Ans :-\n",
        " A python interprter is the software that readds and runs pythin code line by line. It processes the code, converts it into an intermediate form called bytecode, and executes it using the pthon virtual Machine (PVM).\n",
        "\n",
        " This allows python to be easy to test and debug,without needing a separate compilation step.\n",
        "\n",
        "---\n",
        "Q.3 What are pre - defined keywords in Python\n",
        "    \n",
        "   Ans :- Pre-defined keywords in Python are reserved words that have special meaning in the language. Python uses them to define the structure and rules of the program. You cannot use them as variable, function, or class names.\n",
        "\n",
        "   Example :\n",
        "\n",
        "            * if, elif, else - for conditions  \n",
        "            * for, while - for loops\n",
        "            * true, false, none - special constants\n",
        "            * and, or, not - for logic\n",
        "            * def, cls - to create functions and classes   \n",
        "\n",
        "---\n",
        "Q.4 Can keywords be used as variable names\n",
        "\n",
        "   Ans :- No, keywords cannot be used as variable names in Python.\n",
        "             Because Keywords are reserved words that have special meaning in Python (like if, else, for, while, etc.). Using them as variable names will cause a syntax error.\n",
        "\n",
        "---\n",
        "Q.5 What is mutability in Python\n",
        "\n",
        "  Ans :- Mutability in Python means whether a value can be changed after it's created.\n",
        "                 Mutable can be changeable. (e.g. list,set.)\n",
        "                 Immutable cannot be changeable.(int,str,tuple)\n",
        "        \n",
        "---\n",
        "\n",
        "\n",
        "Q.6 Why are lists mutable, but tuples are immutable\n",
        "\n",
        "  Ans :- Lists are mutable because they are designed to store changing data.                                                                         \n",
        "  \n",
        "  You can add, remove, or change elements after creation.\n",
        "\n",
        "  Tuples are immutable because they are meant to store fixed, unchangeable data.         \n",
        "\n",
        "  Once created, their values cannot be altered.\n",
        "  \n",
        "---\n",
        "\n"
      ],
      "metadata": {
        "id": "zrCfnDnO2Mp5"
      }
    },
    {
      "cell_type": "code",
      "source": [
        "x = [1, 2, 3]\n",
        "y = [1, 2, 3]\n",
        "print(x == y)      # True: values are equal\n",
        "print(x is y)      #  False: different objects in memory\n"
      ],
      "metadata": {
        "colab": {
          "base_uri": "https://localhost:8080/"
        },
        "id": "3xUri3VO7SzX",
        "outputId": "bc264006-e13b-4c1a-b010-02773989fef8"
      },
      "execution_count": 1,
      "outputs": [
        {
          "output_type": "stream",
          "name": "stdout",
          "text": [
            "True\n",
            "False\n"
          ]
        }
      ]
    },
    {
      "cell_type": "markdown",
      "source": [],
      "metadata": {
        "id": "HXFuRli_7Ypz"
      }
    },
    {
      "cell_type": "markdown",
      "source": [
        "---\n",
        "\n",
        "---\n",
        "Q.8 What are logical operators in Python\n",
        "\n",
        "\n",
        "Ans :- Logical operator in python are used to combine the multiple  conditions (Boolean expression ) . The return either True Or False basic  on logic.\n",
        "Logical operators are “and , or , not ” used to combine the conditions in python program.\n",
        "\n",
        "Operator\n",
        "\n",
        "AND — True if both condition are true.\n",
        " Example – x > 5 and x < 10\n",
        "\n",
        "OR —  True if at least on condition is True   \n",
        "              Example – x > 5 or x < 3\n",
        "\n",
        "NOT — Reverse the result(True → False)  Ex – not(x>5)\n"
      ],
      "metadata": {
        "id": "IOaOUq3i7dIe"
      }
    },
    {
      "cell_type": "code",
      "source": [
        "x = 7\n",
        "\n",
        "print(x > 5 and x < 10)   # True\n",
        "print(x < 5 or x > 10)    # False\n",
        "print(not(x > 5))         # False"
      ],
      "metadata": {
        "colab": {
          "base_uri": "https://localhost:8080/"
        },
        "id": "4f7mgycX70rQ",
        "outputId": "360a630e-7753-40a2-da61-a6b2c0567711"
      },
      "execution_count": 2,
      "outputs": [
        {
          "output_type": "stream",
          "name": "stdout",
          "text": [
            "True\n",
            "False\n",
            "False\n"
          ]
        }
      ]
    },
    {
      "cell_type": "markdown",
      "source": [
        "---\n",
        "---\n",
        "Q.9 What is type casting in Python\n",
        "\n",
        " Ans :- Type casting in python means converting one data type into another.\n",
        "\n",
        "   Example – Changing a number (int) to a string (str), or a string to a float.\n",
        "              Common type casting Functions are : int(), float(), str(), bool().\n",
        "\n",
        "Type casting is the process of changing data from one type to another, like from\n",
        "              Str to int .\n",
        "\n"
      ],
      "metadata": {
        "id": "tTSZ3wb58APP"
      }
    },
    {
      "cell_type": "code",
      "source": [
        "a = \"100\"\n",
        "b = int(a)\n",
        "print(b + 20)\n"
      ],
      "metadata": {
        "colab": {
          "base_uri": "https://localhost:8080/"
        },
        "id": "Ku4nc0Ac8NYz",
        "outputId": "659fe33a-61b2-474c-cd37-132d6ae5426f"
      },
      "execution_count": 3,
      "outputs": [
        {
          "output_type": "stream",
          "name": "stdout",
          "text": [
            "120\n"
          ]
        }
      ]
    },
    {
      "cell_type": "markdown",
      "source": [
        "---\n",
        "---\n",
        "Q.10 What is the difference between implicit and explicit type casting\n",
        "\n",
        "Ans :-  Implicit Type Casting\n",
        "\n",
        "  Python automatically converts one data type to another without your help.\n",
        "\n",
        "Explicit Type Casting\n",
        "\n",
        "  You manually convert one data type to another using functions like          \n",
        "   int(), float() or str().\n"
      ],
      "metadata": {
        "id": "yZYWUnTf8UBs"
      }
    },
    {
      "cell_type": "code",
      "source": [
        "#impicit type casting\n",
        "x = 5       # int\n",
        "y = 2.5     # float\n",
        "z = x + y   # x is automatically converted to float\n",
        "print(z)"
      ],
      "metadata": {
        "colab": {
          "base_uri": "https://localhost:8080/"
        },
        "id": "KV4ySU5I8ix6",
        "outputId": "c5c53c91-7792-458f-e3ff-ae47b2c64612"
      },
      "execution_count": 4,
      "outputs": [
        {
          "output_type": "stream",
          "name": "stdout",
          "text": [
            "7.5\n"
          ]
        }
      ]
    },
    {
      "cell_type": "code",
      "source": [
        "# Explicit type casting\n",
        "a = \"10\"\n",
        "b = int(a)   # manually casting string to int\n",
        "print(b + 5) # Output: 15"
      ],
      "metadata": {
        "colab": {
          "base_uri": "https://localhost:8080/"
        },
        "id": "uL-K3MH08vJS",
        "outputId": "0c2bc294-9901-4a20-8f6b-b2331109998c"
      },
      "execution_count": 5,
      "outputs": [
        {
          "output_type": "stream",
          "name": "stdout",
          "text": [
            "15\n"
          ]
        }
      ]
    },
    {
      "cell_type": "markdown",
      "source": [
        "---\n",
        "---\n",
        "Q.11 What is the purpose of conditional statements in Python\n",
        "\n",
        " Ans :- Conditional statements allow your Python program to make decisions and run specific code based on conditions.\n",
        "\n",
        "Conditional statements are used to make decisions in a Python program.\n",
        "They let the program choose different actions based on whether a condition is True or False.\n"
      ],
      "metadata": {
        "id": "En_c1lti85RT"
      }
    },
    {
      "cell_type": "code",
      "source": [
        "age = 18\n",
        "if age >= 18:\n",
        "    print(\"You can vote.\")\n",
        "else:\n",
        "    print(\"You cannot vote.\")"
      ],
      "metadata": {
        "colab": {
          "base_uri": "https://localhost:8080/"
        },
        "id": "MZ-VhHE39EK9",
        "outputId": "8c3a74c0-6381-4475-c6ab-f111c54a6801"
      },
      "execution_count": 6,
      "outputs": [
        {
          "output_type": "stream",
          "name": "stdout",
          "text": [
            "You can vote.\n"
          ]
        }
      ]
    },
    {
      "cell_type": "markdown",
      "source": [
        "---\n",
        "---\n",
        "Q.12 How does the elif statement work\n",
        "\n",
        "Ans :-  How it is work\n",
        "\n",
        "python check the first **if** conditon\n",
        "\n",
        "If **if** is False, it check the next **elif** condition\n",
        "\n",
        "You can have many **elif** statements.\n",
        "\n",
        "If none are True, the esle block runs (if present).\n"
      ],
      "metadata": {
        "id": "nHg0l8gU-zkf"
      }
    },
    {
      "cell_type": "code",
      "source": [
        "# for loop\n",
        "for i in range(5):\n",
        "    print(i)\n"
      ],
      "metadata": {
        "colab": {
          "base_uri": "https://localhost:8080/"
        },
        "id": "y8dq8fQI-4VA",
        "outputId": "0614198c-3626-4423-cce0-33a0a16102d6"
      },
      "execution_count": 7,
      "outputs": [
        {
          "output_type": "stream",
          "name": "stdout",
          "text": [
            "0\n",
            "1\n",
            "2\n",
            "3\n",
            "4\n"
          ]
        }
      ]
    },
    {
      "cell_type": "code",
      "source": [
        "#while loop\n",
        "i = 0\n",
        "while i < 5:\n",
        "    print(i)\n",
        "    i += 1"
      ],
      "metadata": {
        "colab": {
          "base_uri": "https://localhost:8080/"
        },
        "id": "JW_3mVAH_FOD",
        "outputId": "67073ffc-8b96-4ebc-e255-074f9697052d"
      },
      "execution_count": 8,
      "outputs": [
        {
          "output_type": "stream",
          "name": "stdout",
          "text": [
            "0\n",
            "1\n",
            "2\n",
            "3\n",
            "4\n"
          ]
        }
      ]
    },
    {
      "cell_type": "markdown",
      "source": [],
      "metadata": {
        "id": "Usf89Ky7-zMW"
      }
    },
    {
      "cell_type": "markdown",
      "source": [
        "---\n",
        "---\n",
        "Q.13 What is the difference between for and while loops\n",
        "\n",
        " Ans :-  \n",
        "\n",
        " **For Loop**\n",
        "\n",
        " Use Case - \tWhen you know how many times to loop.\n",
        "\n",
        " Loop Control - Uses a sequence (like list, range).\n",
        "\n",
        " Comman Use - Iterating over items.\n",
        "\n",
        " **While loop**\n",
        "\n",
        " Use case - When you don't know how many times to loop.\n",
        "\n",
        "\n",
        " Loop case - Loops while a condition is True.\n",
        "\n",
        "\n",
        " Common Use - Repeating until a condition changes."
      ],
      "metadata": {
        "id": "auiUwdU7_Mum"
      }
    },
    {
      "cell_type": "code",
      "source": [
        "x = 20\n",
        "\n",
        "if x < 10:\n",
        "    print(\"Less than 10\")\n",
        "elif x < 30:\n",
        "    print(\"Less than 30\")\n",
        "else:\n",
        "    print(\"30 or more\")\n"
      ],
      "metadata": {
        "colab": {
          "base_uri": "https://localhost:8080/"
        },
        "id": "U971IYeF_vGR",
        "outputId": "5a4a1349-ee31-4d66-a63c-1da383b68e45"
      },
      "execution_count": 9,
      "outputs": [
        {
          "output_type": "stream",
          "name": "stdout",
          "text": [
            "Less than 30\n"
          ]
        }
      ]
    },
    {
      "cell_type": "markdown",
      "source": [
        "---\n",
        "---\n",
        "Q.14  Describe a scenario where a while loop is more suitable than a for loop\n",
        "\n",
        "Ans :-  Use a while loop when you need to repeat something until a condition is met, and you don't know how many times it will happen.\n"
      ],
      "metadata": {
        "id": "n0BJMzTJ_4dq"
      }
    },
    {
      "cell_type": "code",
      "source": [
        "answer = \"\"\n",
        "\n",
        "while answer != \"stop\":\n",
        "    answer = input(\"Type 'stop' to end: \")\n"
      ],
      "metadata": {
        "colab": {
          "base_uri": "https://localhost:8080/"
        },
        "id": "_Swneq1uACjS",
        "outputId": "a3020445-98ba-4470-e382-86927e44dd6c"
      },
      "execution_count": 1,
      "outputs": [
        {
          "name": "stdout",
          "output_type": "stream",
          "text": [
            "Type 'stop' to end: end\n",
            "Type 'stop' to end: end\n",
            "Type 'stop' to end: prapti\n",
            "Type 'stop' to end: after stop  its end the loop\n",
            "Type 'stop' to end: stop\n"
          ]
        }
      ]
    },
    {
      "cell_type": "markdown",
      "source": [
        "---\n",
        "---\n",
        "end"
      ],
      "metadata": {
        "id": "AOIpZPTgA9sU"
      }
    },
    {
      "cell_type": "markdown",
      "source": [
        "**Practical Question**\n",
        "\n",
        "---\n",
        "\n",
        "---\n",
        "\n",
        "\n"
      ],
      "metadata": {
        "id": "E2kep_WbBSaN"
      }
    },
    {
      "cell_type": "markdown",
      "source": [
        "1. Write a Python program to print \"Hello, World!"
      ],
      "metadata": {
        "id": "hvmOliQZOfBs"
      }
    },
    {
      "cell_type": "code",
      "source": [
        "print(\"Hello, World!\")"
      ],
      "metadata": {
        "colab": {
          "base_uri": "https://localhost:8080/"
        },
        "id": "7IjJmz3KBzK_",
        "outputId": "b9e41d74-c698-4cdf-ede4-3ce3d3066419"
      },
      "execution_count": 2,
      "outputs": [
        {
          "output_type": "stream",
          "name": "stdout",
          "text": [
            "Hello, World!\n"
          ]
        }
      ]
    },
    {
      "cell_type": "markdown",
      "source": [
        " 2.Write a Python program that displays your name and age\n"
      ],
      "metadata": {
        "id": "BorGaQZkOq8E"
      }
    },
    {
      "cell_type": "code",
      "source": [
        "name = \"prapti patil\"\n",
        "age =22\n",
        "print(\"Name:\", name)\n",
        "print(\"Age:\", age)"
      ],
      "metadata": {
        "colab": {
          "base_uri": "https://localhost:8080/"
        },
        "id": "Jw7yOFzEB-5p",
        "outputId": "63d09190-d37f-4a86-9ab6-feb44244e8b0"
      },
      "execution_count": 4,
      "outputs": [
        {
          "output_type": "stream",
          "name": "stdout",
          "text": [
            "Name: prapti patil\n",
            "Age: 22\n"
          ]
        }
      ]
    },
    {
      "cell_type": "markdown",
      "source": [
        "3.Write code to print all the pre-defined keywords in Python using the keyword library"
      ],
      "metadata": {
        "id": "FpiUEqoMOxHZ"
      }
    },
    {
      "cell_type": "code",
      "source": [
        "help(\"keywords\")"
      ],
      "metadata": {
        "colab": {
          "base_uri": "https://localhost:8080/"
        },
        "id": "w-NPjNYhCR-y",
        "outputId": "567d8c34-2a0c-46ff-fc02-1759cdda1b96"
      },
      "execution_count": 6,
      "outputs": [
        {
          "output_type": "stream",
          "name": "stdout",
          "text": [
            "\n",
            "Here is a list of the Python keywords.  Enter any keyword to get more help.\n",
            "\n",
            "False               class               from                or\n",
            "None                continue            global              pass\n",
            "True                def                 if                  raise\n",
            "and                 del                 import              return\n",
            "as                  elif                in                  try\n",
            "assert              else                is                  while\n",
            "async               except              lambda              with\n",
            "await               finally             nonlocal            yield\n",
            "break               for                 not                 \n",
            "\n"
          ]
        }
      ]
    },
    {
      "cell_type": "markdown",
      "source": [
        " 4.Write a program that checks if a given word is a Python keyword.\n"
      ],
      "metadata": {
        "id": "sUsAS5ifO7Wk"
      }
    },
    {
      "cell_type": "code",
      "source": [
        "keywords = \"if else for while def class return\"\n",
        "\n",
        "word = input(\"Enter a word: \")\n",
        "\n",
        "if word in keywords.split():\n",
        "    print(\" It is a Python keyword.\")\n",
        "else:\n",
        "    print(\" It is NOT a Python keyword.\")\n",
        "\n"
      ],
      "metadata": {
        "colab": {
          "base_uri": "https://localhost:8080/"
        },
        "id": "B-U4m15fC8oh",
        "outputId": "52a69bb3-0c56-4e9b-90b5-caede97d295a"
      },
      "execution_count": 8,
      "outputs": [
        {
          "output_type": "stream",
          "name": "stdout",
          "text": [
            "Enter a word: if\n",
            " It is a Python keyword.\n"
          ]
        }
      ]
    },
    {
      "cell_type": "markdown",
      "source": [
        "5. Create a list and tuple in Python, and demonstrate how attempting to change an element works differently for each\n"
      ],
      "metadata": {
        "id": "RNUuXi0tPObN"
      }
    },
    {
      "cell_type": "code",
      "source": [
        "# Create a list and a tuple\n",
        "my_list = [11, 12, 13]\n",
        "my_tuple = (11, 12, 13)\n",
        "\n",
        "# Modify an element in the list\n",
        "my_list[1] = 99\n",
        "print(\"Updated List:\", my_list)  #  Allowed (lists are mutable)\n",
        "\n",
        "# Try modifying the tuple\n",
        "try:\n",
        "    my_tuple[1] = 99             #  Not allowed (tuples are immutable)\n",
        "except TypeError as e:\n",
        "    print(\"Error with Tuple:\", e)\n",
        "\n"
      ],
      "metadata": {
        "colab": {
          "base_uri": "https://localhost:8080/"
        },
        "id": "gm_kDC6wDV0b",
        "outputId": "cb9ef34d-0130-4980-dbd1-a566a06206c4"
      },
      "execution_count": 11,
      "outputs": [
        {
          "output_type": "stream",
          "name": "stdout",
          "text": [
            "Updated List: [11, 99, 13]\n",
            "Error with Tuple: 'tuple' object does not support item assignment\n"
          ]
        }
      ]
    },
    {
      "cell_type": "markdown",
      "source": [
        "6. Write a function to demonstrate the behavior of mutable and immutable arguments"
      ],
      "metadata": {
        "id": "dbXNolysPqdy"
      }
    },
    {
      "cell_type": "code",
      "source": [
        "# Immutable example\n",
        "a = 7\n",
        "b = a\n",
        "b = b + 1\n",
        "print(\"a:\", a)  # a is still 7\n",
        "\n",
        "# Mutable example\n",
        "x = [1, 2]\n",
        "y = x\n",
        "y.append(20)\n",
        "print(\"x:\", x)  # x is changed to [1, 2, 20]"
      ],
      "metadata": {
        "colab": {
          "base_uri": "https://localhost:8080/"
        },
        "id": "K2AmrAUZEdMv",
        "outputId": "ace4455e-92fb-48a9-ee9d-b01c6fecd93e"
      },
      "execution_count": 14,
      "outputs": [
        {
          "output_type": "stream",
          "name": "stdout",
          "text": [
            "a: 7\n",
            "x: [1, 2, 20]\n"
          ]
        }
      ]
    },
    {
      "cell_type": "markdown",
      "source": [
        "7.Write a program that performs basic arithmetic operations on two user-input numbers"
      ],
      "metadata": {
        "id": "X-tFIg2HPxLW"
      }
    },
    {
      "cell_type": "code",
      "source": [
        "# Take input\n",
        "a = float(input(\"Enter first number: \"))\n",
        "b = float(input(\"Enter second number: \"))\n",
        "\n",
        "# Perform operations\n",
        "print(\"Addition:\", a + b)\n",
        "print(\"Subtraction:\", a - b)\n",
        "print(\"Multiplication:\", a * b)\n",
        "print(\"Division:\", a / b)\n"
      ],
      "metadata": {
        "colab": {
          "base_uri": "https://localhost:8080/"
        },
        "id": "RBmrQ-9_EE1X",
        "outputId": "0a8867bf-87fe-49ac-823a-12b2bc98cc92"
      },
      "execution_count": 20,
      "outputs": [
        {
          "output_type": "stream",
          "name": "stdout",
          "text": [
            "Enter first number: 4\n",
            "Enter second number: 2\n",
            "Addition: 6.0\n",
            "Subtraction: 2.0\n",
            "Multiplication: 8.0\n",
            "Division: 2.0\n"
          ]
        }
      ]
    },
    {
      "cell_type": "markdown",
      "source": [
        "8. Write a program to demonstrate the use of logical operators"
      ],
      "metadata": {
        "id": "lV1nxVosP3i0"
      }
    },
    {
      "cell_type": "code",
      "source": [
        "a = int(input(\"Enter first number: \"))\n",
        "b = int(input(\"Enter second number: \"))\n",
        "\n",
        "# Demonstrate logical operators\n",
        "print(\"a > 0 and b > 0:\", a > 0 and b > 0)\n",
        "print(\"a > 0 or b > 0:\", a > 0 or b > 0)\n",
        "print(\"not (a > 0):\", not (a > 0))"
      ],
      "metadata": {
        "colab": {
          "base_uri": "https://localhost:8080/"
        },
        "id": "krOfMHaEGOFf",
        "outputId": "30fd138d-8b6f-4818-f769-ec8f4b4ab22f"
      },
      "execution_count": 21,
      "outputs": [
        {
          "output_type": "stream",
          "name": "stdout",
          "text": [
            "Enter first number: 4\n",
            "Enter second number: -3\n",
            "a > 0 and b > 0: False\n",
            "a > 0 or b > 0: True\n",
            "not (a > 0): False\n"
          ]
        }
      ]
    },
    {
      "cell_type": "markdown",
      "source": [
        "9.Write a Python program to convert user input from string to integer, float, and boolean types."
      ],
      "metadata": {
        "id": "WoLbZ7dAQBGB"
      }
    },
    {
      "cell_type": "code",
      "source": [
        "x = input(\"Enter something: \")\n",
        "\n",
        "print(\"As Integer:\", int(x))\n",
        "print(\"As Float:\", float(x))\n",
        "print(\"As Boolean:\", bool(x))\n"
      ],
      "metadata": {
        "colab": {
          "base_uri": "https://localhost:8080/"
        },
        "id": "nvRk64rXGpGu",
        "outputId": "1e4c6822-0528-4782-ae07-6a19d5c845e7"
      },
      "execution_count": 22,
      "outputs": [
        {
          "output_type": "stream",
          "name": "stdout",
          "text": [
            "Enter something: 1990\n",
            "As Integer: 1990\n",
            "As Float: 1990.0\n",
            "As Boolean: True\n"
          ]
        }
      ]
    },
    {
      "cell_type": "markdown",
      "source": [
        "10.Write code to demonstrate type casting with list elements"
      ],
      "metadata": {
        "id": "z6sZ0iTuQH42"
      }
    },
    {
      "cell_type": "code",
      "source": [
        "# List of strings (numbers)\n",
        "str_list = ['10', '20', '30']\n",
        "\n",
        "# Convert to integers\n",
        "int_list = [int(x) for x in str_list]\n",
        "\n",
        "print(\"Original (str):\", str_list)\n",
        "print(\"Converted (int):\", int_list)\n"
      ],
      "metadata": {
        "colab": {
          "base_uri": "https://localhost:8080/"
        },
        "id": "H8142t_rH7r1",
        "outputId": "f14cd4f2-17e7-4854-d012-19e7646953cd"
      },
      "execution_count": 23,
      "outputs": [
        {
          "output_type": "stream",
          "name": "stdout",
          "text": [
            "Original (str): ['10', '20', '30']\n",
            "Converted (int): [10, 20, 30]\n"
          ]
        }
      ]
    },
    {
      "cell_type": "markdown",
      "source": [
        "11.Write a program that checks if a number is positive, negative, or zero"
      ],
      "metadata": {
        "id": "PtYPsS7nQPaU"
      }
    },
    {
      "cell_type": "code",
      "source": [
        "num = float(input(\"Enter a number: \"))\n",
        "\n",
        "if num > 0:\n",
        "    print(\"Positive number\")\n",
        "elif num < 0:\n",
        "    print(\"Negative number\")\n",
        "else:\n",
        "    print(\"Zero\")\n"
      ],
      "metadata": {
        "colab": {
          "base_uri": "https://localhost:8080/"
        },
        "id": "ttYsodaVIH-C",
        "outputId": "28b3158c-81d5-439d-9efc-cf70e6736a44"
      },
      "execution_count": 24,
      "outputs": [
        {
          "output_type": "stream",
          "name": "stdout",
          "text": [
            "Enter a number: 45\n",
            "Positive number\n"
          ]
        }
      ]
    },
    {
      "cell_type": "markdown",
      "source": [
        "12.Write a for loop to print numbers from 1 to 10"
      ],
      "metadata": {
        "id": "03cYVZj3QUYb"
      }
    },
    {
      "cell_type": "code",
      "source": [
        "for i in range(10):\n",
        "  print(i)"
      ],
      "metadata": {
        "colab": {
          "base_uri": "https://localhost:8080/"
        },
        "id": "yyRTYJNkITr0",
        "outputId": "8b5ce364-8de0-406c-c300-6e165e2c6df9"
      },
      "execution_count": 25,
      "outputs": [
        {
          "output_type": "stream",
          "name": "stdout",
          "text": [
            "0\n",
            "1\n",
            "2\n",
            "3\n",
            "4\n",
            "5\n",
            "6\n",
            "7\n",
            "8\n",
            "9\n"
          ]
        }
      ]
    },
    {
      "cell_type": "markdown",
      "source": [
        "13.Write a Python program to find the sum of all even numbers between 1 and 50"
      ],
      "metadata": {
        "id": "tQwU-iowQZyM"
      }
    },
    {
      "cell_type": "code",
      "source": [
        "for i in range(50):\n",
        "  if i % 2 == 0:\n",
        "    print(f\"'{i}' is even number\")\n",
        "  else:\n",
        "    print(f\"'{i}' is odd numbeer\")"
      ],
      "metadata": {
        "colab": {
          "base_uri": "https://localhost:8080/"
        },
        "id": "EA7R88nGIl-O",
        "outputId": "7f8128a9-81d1-4e66-eab6-adbb29b1c092"
      },
      "execution_count": 26,
      "outputs": [
        {
          "output_type": "stream",
          "name": "stdout",
          "text": [
            "'0' is even number\n",
            "'1' is odd numbeer\n",
            "'2' is even number\n",
            "'3' is odd numbeer\n",
            "'4' is even number\n",
            "'5' is odd numbeer\n",
            "'6' is even number\n",
            "'7' is odd numbeer\n",
            "'8' is even number\n",
            "'9' is odd numbeer\n",
            "'10' is even number\n",
            "'11' is odd numbeer\n",
            "'12' is even number\n",
            "'13' is odd numbeer\n",
            "'14' is even number\n",
            "'15' is odd numbeer\n",
            "'16' is even number\n",
            "'17' is odd numbeer\n",
            "'18' is even number\n",
            "'19' is odd numbeer\n",
            "'20' is even number\n",
            "'21' is odd numbeer\n",
            "'22' is even number\n",
            "'23' is odd numbeer\n",
            "'24' is even number\n",
            "'25' is odd numbeer\n",
            "'26' is even number\n",
            "'27' is odd numbeer\n",
            "'28' is even number\n",
            "'29' is odd numbeer\n",
            "'30' is even number\n",
            "'31' is odd numbeer\n",
            "'32' is even number\n",
            "'33' is odd numbeer\n",
            "'34' is even number\n",
            "'35' is odd numbeer\n",
            "'36' is even number\n",
            "'37' is odd numbeer\n",
            "'38' is even number\n",
            "'39' is odd numbeer\n",
            "'40' is even number\n",
            "'41' is odd numbeer\n",
            "'42' is even number\n",
            "'43' is odd numbeer\n",
            "'44' is even number\n",
            "'45' is odd numbeer\n",
            "'46' is even number\n",
            "'47' is odd numbeer\n",
            "'48' is even number\n",
            "'49' is odd numbeer\n"
          ]
        }
      ]
    },
    {
      "cell_type": "markdown",
      "source": [
        "14.Write a program to reverse a string using a while loop."
      ],
      "metadata": {
        "id": "H1hOabKeQgGi"
      }
    },
    {
      "cell_type": "code",
      "source": [
        "text = input(\"Enter a string: \")\n",
        "reversed_text = \"\"\n",
        "i = len(text) - 1\n",
        "\n",
        "while i >= 0:\n",
        "    reversed_text += text[i]\n",
        "    i -= 1\n",
        "\n",
        "print(\"Reversed string:\", reversed_text)\n"
      ],
      "metadata": {
        "colab": {
          "base_uri": "https://localhost:8080/"
        },
        "id": "AaBO0922I39b",
        "outputId": "ac4001bf-0e8b-4d79-d3e9-19650b06d3a7"
      },
      "execution_count": 3,
      "outputs": [
        {
          "output_type": "stream",
          "name": "stdout",
          "text": [
            "Enter a string: reverse\n",
            "Reversed string: esrever\n"
          ]
        }
      ]
    },
    {
      "cell_type": "markdown",
      "source": [
        "15.Write a Python program to calculate the factorial of a number provided by the user using a while loop."
      ],
      "metadata": {
        "id": "9piz0f0EQlHf"
      }
    },
    {
      "cell_type": "code",
      "source": [
        "num = int(input(\"Enter a number: \"))\n",
        "fact = 1\n",
        "i = 1\n",
        "\n",
        "while i <= num:\n",
        "    fact *= i\n",
        "    i += 1\n",
        "\n",
        "print(\"Factorial:\", fact)\n"
      ],
      "metadata": {
        "colab": {
          "base_uri": "https://localhost:8080/"
        },
        "id": "VjjGsFjeJL9l",
        "outputId": "ff396bb8-4d8a-48f9-fb67-095d38eaae73"
      },
      "execution_count": 5,
      "outputs": [
        {
          "output_type": "stream",
          "name": "stdout",
          "text": [
            "Enter a number: 6\n",
            "Factorial: 720\n"
          ]
        }
      ]
    },
    {
      "cell_type": "markdown",
      "source": [
        "**END**\n",
        "\n",
        "\n",
        "\n",
        "---\n",
        "---\n"
      ],
      "metadata": {
        "id": "LJfFRac5Kn-6"
      }
    },
    {
      "cell_type": "markdown",
      "source": [],
      "metadata": {
        "id": "LUEoMiJx-zHe"
      }
    },
    {
      "cell_type": "markdown",
      "source": [],
      "metadata": {
        "id": "ZOsQKc0K-yef"
      }
    },
    {
      "cell_type": "markdown",
      "source": [],
      "metadata": {
        "id": "C6wia6uv9PbF"
      }
    },
    {
      "cell_type": "markdown",
      "source": [],
      "metadata": {
        "id": "79MazbNlKaOi"
      }
    },
    {
      "cell_type": "markdown",
      "source": [
        "\n",
        "\n",
        "\n",
        "\n"
      ],
      "metadata": {
        "id": "-0muqE1e3hGq"
      }
    },
    {
      "cell_type": "markdown",
      "source": [],
      "metadata": {
        "id": "ApgAakEX2SMZ"
      }
    },
    {
      "cell_type": "code",
      "source": [],
      "metadata": {
        "id": "cMGjbw3FG2l0"
      },
      "execution_count": null,
      "outputs": []
    },
    {
      "cell_type": "markdown",
      "source": [
        "\n"
      ],
      "metadata": {
        "id": "81Xw_Zyd2iT3"
      }
    }
  ]
}